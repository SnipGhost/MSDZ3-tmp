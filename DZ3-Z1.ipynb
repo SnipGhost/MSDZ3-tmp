{
 "cells": [
  {
   "cell_type": "markdown",
   "metadata": {},
   "source": [
    "# Задача 1\n",
    "\n",
    "Даны результаты измерений максимальной скорости испытаний спортивного\n",
    "самолета, м/с:\n",
    "\n",
    "431; 398; 423; 401; 423; 404; 389; 428; 402; 404; 427; 398; 422; 409; 420; 422;  \n",
    "397; 458; 403; 411; 398; 408; 438; 414; 413; 404; 426; 434; 430; 397; 383; 415;  \n",
    "418; 438; 394; 417; 412; 404; 389; 398; 431; 423; 401; 423; 435; 427; 428; 405;  \n",
    "414; 415; 439; 409; 391; 416; 419; 401; 372; 395; 418; 413; 407; 445; 428; 420;  \n",
    "429; 395; 433; 406; 402; 398; 399; 432; 405; 412; 425; 417; 424; 416; 396; 403;  \n",
    "432; 402; 431; 419; 423; 441; 424; 410; 424; 413; 393; 412; 302; 408; 437; 416;  \n",
    "436; 415; 421; 407; 404; 404; 403; 434; 412; 419; 405; 402; 394; 423; 398; 415;  \n",
    "401; 398; 428; 416; 453; 371; 424; 417.  \n",
    "\n",
    "Для заданной выборки:\n",
    "\n",
    "1) постройте статистический ряд и интервальный статистический ряд, предварительно определив число интервалов  \n",
    "2) найдите значения точечных оценок математического ожидания и дисперсии  \n",
    "3) постройте гистограмму  \n",
    "4) на основе анализа результатов наблюдений выдвинете гипотезу о виде закона распределения генеральной совокупности  "
   ]
  },
  {
   "cell_type": "code",
   "execution_count": 1,
   "metadata": {
    "collapsed": true
   },
   "outputs": [],
   "source": [
    "#!/usr/bin/python\n",
    "# -*- coding: utf-8 -*-\n",
    "\n",
    "%matplotlib inline\n",
    "\n",
    "import os, sys, math\n",
    "import matplotlib\n",
    "import numpy as np\n",
    "import matplotlib.pyplot as plt\n",
    "from collections import Counter\n",
    "from IPython.display import display, HTML"
   ]
  },
  {
   "cell_type": "markdown",
   "metadata": {},
   "source": [
    "## Выборка данных\n",
    "\n",
    "Даны результаты измерений максимальной скорости испытаний спортивного самолета, м/с:"
   ]
  },
  {
   "cell_type": "code",
   "execution_count": 2,
   "metadata": {
    "collapsed": true
   },
   "outputs": [],
   "source": [
    "# Датасет\n",
    "a = [431, 398, 423, 401, 423, 404, 389, 428, 402, 404,\n",
    "     427, 398, 422, 409, 420, 422, 397, 458, 403, 411,\n",
    "     398, 408, 438, 414, 413, 404, 426, 434, 430, 397,\n",
    "     383, 415, 418, 438, 394, 417, 412, 404, 389, 398,\n",
    "     431, 423, 401, 423, 435, 427, 428, 405, 414, 415,\n",
    "     439, 409, 391, 416, 419, 401, 372, 395, 418, 413,\n",
    "     407, 445, 428, 420, 429, 395, 433, 406, 402, 398,\n",
    "     399, 432, 405, 412, 425, 417, 424, 416, 396, 403,\n",
    "     432, 402, 431, 419, 423, 441, 424, 410, 424, 413,\n",
    "     393, 412, 302, 408, 437, 416, 436, 415, 421, 407,\n",
    "     404, 404, 403, 434, 412, 419, 405, 402, 394, 423,\n",
    "     398, 415, 401, 398, 428, 416, 453, 371, 424, 417]\n",
    "\n",
    "a.sort()\n",
    "\n",
    "# Считаем количество уникальных\n",
    "stat_a = Counter(a)"
   ]
  },
  {
   "cell_type": "markdown",
   "metadata": {},
   "source": [
    "## Количество интервалов\n",
    "\n",
    "По формуле Стержеса:\n",
    "\n",
    "$ k = 1 + 3,32 * \\lg n $\n",
    "\n",
    "Где k - количество интервалов, n - размер выборки"
   ]
  },
  {
   "cell_type": "code",
   "execution_count": 3,
   "metadata": {
    "collapsed": true
   },
   "outputs": [],
   "source": [
    "icount = int(round(1 + 3.32 * math.log10(len(a))))"
   ]
  },
  {
   "cell_type": "markdown",
   "metadata": {},
   "source": [
    "Размер интервала:\n",
    "$$ \\Delta a = \\frac{a_{max} - a_{min}}{k} $$\n",
    "\n",
    "Где k - количество интервалов, $a_{max}, a_{min}$ - максимальный и минимальный элементы выборки"
   ]
  },
  {
   "cell_type": "code",
   "execution_count": 4,
   "metadata": {},
   "outputs": [
    {
     "name": "stdout",
     "output_type": "stream",
     "text": [
      "Количество интервалов:\t8\n",
      "Размер интервала:\t19\n",
      "\n",
      "min \t= 302 \n",
      "max \t= 458\n",
      "Медиана = 414\n"
     ]
    }
   ],
   "source": [
    "da = (max(a) - min(a)) / icount;\n",
    "\n",
    "print \"Количество интервалов:\\t\", icount\n",
    "print \"Размер интервала:\\t\", da\n",
    "print\n",
    "print \"min \\t=\", min(a), \"\\nmax \\t=\", max(a)\n",
    "print \"Медиана =\", a[len(a)/2]"
   ]
  },
  {
   "cell_type": "markdown",
   "metadata": {},
   "source": [
    "## Статический ряд"
   ]
  },
  {
   "cell_type": "code",
   "execution_count": 5,
   "metadata": {},
   "outputs": [
    {
     "data": {
      "text/html": [
       "<style></style><table><tr><th>Значение</th><th>Частота</th></tr><tr><td>389</td><td>2</td></tr><tr><td>391</td><td>1</td></tr><tr><td>393</td><td>1</td></tr><tr><td>394</td><td>2</td></tr><tr><td>395</td><td>2</td></tr><tr><td>396</td><td>1</td></tr><tr><td>397</td><td>2</td></tr><tr><td>398</td><td>7</td></tr><tr><td>399</td><td>1</td></tr><tr><td>401</td><td>4</td></tr><tr><td>402</td><td>4</td></tr><tr><td>403</td><td>3</td></tr><tr><td>404</td><td>6</td></tr><tr><td>405</td><td>3</td></tr><tr><td>406</td><td>1</td></tr><tr><td>407</td><td>2</td></tr><tr><td>408</td><td>2</td></tr><tr><td>409</td><td>2</td></tr><tr><td>410</td><td>1</td></tr><tr><td>411</td><td>1</td></tr><tr><td>412</td><td>4</td></tr><tr><td>413</td><td>3</td></tr><tr><td>414</td><td>2</td></tr><tr><td>415</td><td>4</td></tr><tr><td>416</td><td>4</td></tr><tr><td>417</td><td>3</td></tr><tr><td>418</td><td>2</td></tr><tr><td>419</td><td>3</td></tr><tr><td>420</td><td>2</td></tr><tr><td>421</td><td>1</td></tr><tr><td>422</td><td>2</td></tr><tr><td>423</td><td>6</td></tr><tr><td>424</td><td>4</td></tr><tr><td>425</td><td>1</td></tr><tr><td>426</td><td>1</td></tr><tr><td>427</td><td>2</td></tr><tr><td>428</td><td>4</td></tr><tr><td>429</td><td>1</td></tr><tr><td>302</td><td>1</td></tr><tr><td>431</td><td>3</td></tr><tr><td>432</td><td>2</td></tr><tr><td>433</td><td>1</td></tr><tr><td>434</td><td>2</td></tr><tr><td>435</td><td>1</td></tr><tr><td>436</td><td>1</td></tr><tr><td>437</td><td>1</td></tr><tr><td>438</td><td>2</td></tr><tr><td>439</td><td>1</td></tr><tr><td>441</td><td>1</td></tr><tr><td>445</td><td>1</td></tr><tr><td>453</td><td>1</td></tr><tr><td>458</td><td>1</td></tr><tr><td>371</td><td>1</td></tr><tr><td>372</td><td>1</td></tr><tr><td>430</td><td>1</td></tr><tr><td>383</td><td>1</td></tr></table>"
      ],
      "text/plain": [
       "<IPython.core.display.HTML object>"
      ]
     },
     "metadata": {},
     "output_type": "display_data"
    }
   ],
   "source": [
    "s = \"<style></style><table><tr><th>Значение</th><th>Частота</th></tr>\"\n",
    "for key, val in stat_a.items():\n",
    "    s += '<tr><td>{}</td><td>{}</td></tr>'.format(key, val)\n",
    "s += \"</table>\"\n",
    "display(HTML(s))"
   ]
  },
  {
   "cell_type": "markdown",
   "metadata": {},
   "source": [
    "## Находим интервалы"
   ]
  },
  {
   "cell_type": "code",
   "execution_count": 6,
   "metadata": {},
   "outputs": [
    {
     "name": "stdout",
     "output_type": "stream",
     "text": [
      "302 - 321\n",
      "321 - 340\n",
      "340 - 359\n",
      "359 - 378\n",
      "378 - 397\n",
      "397 - 416\n",
      "416 - 435\n",
      "435 - 454\n"
     ]
    }
   ],
   "source": [
    "bins = []\n",
    "\n",
    "for i in range(icount):\n",
    "    bins.append(min(a) + i*da)\n",
    "    print min(a) + i*da, \"-\", min(a) + (i+1)*da\n",
    "\n",
    "bins.append(max(a))"
   ]
  },
  {
   "cell_type": "markdown",
   "metadata": {},
   "source": [
    "## Интервальный статический ряд"
   ]
  },
  {
   "cell_type": "code",
   "execution_count": 7,
   "metadata": {},
   "outputs": [
    {
     "data": {
      "text/html": [
       "<style></style><table><tr><th>Интервал</th><th>Частота</th></tr><tr><td>302 - 321</td><td>1</td></tr><tr><td>321 - 340</td><td>0</td></tr><tr><td>340 - 359</td><td>0</td></tr><tr><td>359 - 378</td><td>2</td></tr><tr><td>378 - 397</td><td>10</td></tr><tr><td>397 - 416</td><td>52</td></tr><tr><td>416 - 435</td><td>45</td></tr><tr><td>435 - 458</td><td>10</td></tr></table>"
      ],
      "text/plain": [
       "<IPython.core.display.HTML object>"
      ]
     },
     "metadata": {},
     "output_type": "display_data"
    }
   ],
   "source": [
    "hist, bins = np.histogram(a, bins=bins)\n",
    "bin_counts = zip(bins, bins[1:], hist)\n",
    "\n",
    "s = \"<style></style><table><tr><th>Интервал</th><th>Частота</th></tr>\"\n",
    "for bin_start, bin_end, count in bin_counts:\n",
    "    s += '<tr><td>{} - {}</td><td>{}</td></tr>'.format(bin_start, bin_end, count)\n",
    "s += \"</table>\"\n",
    "display(HTML(s))"
   ]
  },
  {
   "cell_type": "markdown",
   "metadata": {},
   "source": [
    "## Гистограмма по интервальным значениям"
   ]
  },
  {
   "cell_type": "code",
   "execution_count": 8,
   "metadata": {},
   "outputs": [
    {
     "data": {
      "image/png": "[encoded data removed]",
      "text/plain": [
       "<matplotlib.figure.Figure at 0x103f0fd90>"
      ]
     },
     "metadata": {},
     "output_type": "display_data"
    }
   ],
   "source": [
    "plt.hist(a, bins, color=\"blue\")\n",
    "plt.show()"
   ]
  },
  {
   "cell_type": "markdown",
   "metadata": {},
   "source": [
    "## Точечные оценки выборки\n",
    "\n",
    "Среднее выборочное (оценка мат. ожидания):\n",
    "$$ {\\bar {X}}={\\frac {1}{n}}\\sum \\limits _{i=1}^{n}X_{i} $$\n",
    "\n",
    "Выборочная дисперсия:\n",
    "$$ S^{2}={\\frac  {1}{n-1}}\\sum \\limits _{{i=1}}^{n}\\left(X_{i}-{\\bar  {X}}\\right)^{2} $$\n",
    "\n",
    "Где X - выборка, $X_i$ - i-й элемент выборки, n - размер выборки"
   ]
  },
  {
   "cell_type": "code",
   "execution_count": 9,
   "metadata": {},
   "outputs": [
    {
     "name": "stdout",
     "output_type": "stream",
     "text": [
      "Среднее выборочное:\t412.95\n",
      "Исправленная дисперсия:\t338.6975\n",
      "Ср. кв. отклонение:\t18.4037360338\n"
     ]
    }
   ],
   "source": [
    "print \"Среднее выборочное:\\t\", (0.0+np.sum(a))/len(a)\n",
    "print \"Исправленная дисперсия:\\t\", np.var(a)\n",
    "print \"Ср. кв. отклонение:\\t\", np.std(a)"
   ]
  },
  {
   "cell_type": "markdown",
   "metadata": {},
   "source": [
    "Из метрик, приведенных выше можно сделать вывод:  \n",
    "Данная случайная величина имеет нормальное распределение"
   ]
  },
  {
   "cell_type": "markdown",
   "metadata": {},
   "source": [
    "## Пример нормального распределения\n",
    "\n",
    "$f(x) = {\\displaystyle {\\frac {1}{\\sigma {\\sqrt {2\\pi }}}}\\;\\exp \\left(-{\\frac {\\left(x-\\mu \\right)^{2}}{2\\sigma ^{2}}}\\right)}$"
   ]
  },
  {
   "cell_type": "code",
   "execution_count": 10,
   "metadata": {},
   "outputs": [
    {
     "data": {
      "image/png": "[encoded data removed]",
      "text/plain": [
       "<matplotlib.figure.Figure at 0x10abffe10>"
      ]
     },
     "metadata": {},
     "output_type": "display_data"
    }
   ],
   "source": [
    "mu, sigma = 0, 0.1 # mean and standard deviation\n",
    "\n",
    "s = np.random.normal(mu, sigma, 1000)\n",
    "\n",
    "count, bins, ignored = plt.hist(s, 30, normed=True)\n",
    "plt.plot(bins, 1/(sigma * np.sqrt(2 * np.pi)) *\n",
    "         np.exp( - (bins - mu)**2 / (2 * sigma**2) ),\n",
    "         linewidth=2, color='r')\n",
    "plt.show()"
   ]
  },
  {
   "cell_type": "code",
   "execution_count": null,
   "metadata": {
    "collapsed": true
   },
   "outputs": [],
   "source": []
  }
 ],
 "metadata": {
  "kernelspec": {
   "display_name": "Python 2",
   "language": "python",
   "name": "python2"
  },
  "language_info": {
   "codemirror_mode": {
    "name": "ipython",
    "version": 2
   },
   "file_extension": ".py",
   "mimetype": "text/x-python",
   "name": "python",
   "nbconvert_exporter": "python",
   "pygments_lexer": "ipython2",
   "version": "2.7.13"
  }
 },
 "nbformat": 4,
 "nbformat_minor": 2
}
